{
 "cells": [
  {
   "cell_type": "code",
   "execution_count": 1,
   "metadata": {
    "vscode": {
     "languageId": "r"
    }
   },
   "outputs": [
    {
     "name": "stderr",
     "output_type": "stream",
     "text": [
      "Installing package into ‘/home/bio/R/x86_64-pc-linux-gnu-library/4.1’\n",
      "(as ‘lib’ is unspecified)\n",
      "\n",
      "Installing package into ‘/home/bio/R/x86_64-pc-linux-gnu-library/4.1’\n",
      "(as ‘lib’ is unspecified)\n",
      "\n",
      "Installing package into ‘/home/bio/R/x86_64-pc-linux-gnu-library/4.1’\n",
      "(as ‘lib’ is unspecified)\n",
      "\n",
      "Installing package into ‘/home/bio/R/x86_64-pc-linux-gnu-library/4.1’\n",
      "(as ‘lib’ is unspecified)\n",
      "\n",
      "also installing the dependencies ‘diffobj’, ‘rematch2’, ‘brio’, ‘praise’, ‘processx’, ‘waldo’, ‘testthat’, ‘minqa’, ‘nloptr’, ‘RcppEigen’, ‘later’, ‘carData’, ‘pbkrtest’, ‘lme4’, ‘crosstalk’, ‘promises’, ‘estimability’, ‘numDeriv’, ‘broom’, ‘car’, ‘DT’, ‘ellipse’, ‘emmeans’, ‘flashClust’, ‘leaps’, ‘multcompView’, ‘scatterplot3d’, ‘ggsci’, ‘cowplot’, ‘ggsignif’, ‘polynom’, ‘rstatix’, ‘abind’, ‘dendextend’, ‘FactoMineR’, ‘ggpubr’, ‘reshape2’, ‘ggrepel’\n",
      "\n",
      "\n"
     ]
    }
   ],
   "source": [
    "# # Install and load required libraries\n",
    "# install.packages(\"ggplot2\")  # For data visualization\n",
    "# install.packages(\"dplyr\")    # For data manipulation\n",
    "# install.packages(\"corrplot\") # For correlation plot\n",
    "# install.packages(\"factoextra\") # For factor analysis visualization\n",
    "\n",
    "# Load the libraries\n",
    "library(ggplot2)\n",
    "library(dplyr)\n",
    "library(corrplot)\n",
    "library(factoextra)\n",
    "\n"
   ]
  },
  {
   "cell_type": "code",
   "execution_count": null,
   "metadata": {
    "vscode": {
     "languageId": "r"
    }
   },
   "outputs": [],
   "source": []
  },
  {
   "cell_type": "code",
   "execution_count": null,
   "metadata": {
    "vscode": {
     "languageId": "r"
    }
   },
   "outputs": [],
   "source": [
    "# Replace \"data.csv\" with the actual file path if needed\n",
    "data <- read.csv(\"data.csv\", header = TRUE)\n"
   ]
  },
  {
   "attachments": {},
   "cell_type": "markdown",
   "metadata": {},
   "source": [
    "## Data Exploration and Visualization"
   ]
  },
  {
   "cell_type": "code",
   "execution_count": null,
   "metadata": {
    "vscode": {
     "languageId": "r"
    }
   },
   "outputs": [],
   "source": [
    "# Summary of the data\n",
    "summary(data)\n",
    "\n",
    "# Histograms of each metabolite\n",
    "par(mfrow = c(4, 7)) # This will create a 4x7 grid of histograms for 28 metabolites. Adjust as needed.\n",
    "for (i in 2:ncol(data)) {\n",
    "  hist(data[[i]], main = colnames(data)[i], xlab = \"\")\n",
    "}\n",
    "\n",
    "# Boxplots of each metabolite\n",
    "par(mfrow = c(4, 7)) # This will create a 4x7 grid of boxplots for 28 metabolites. Adjust as needed.\n",
    "for (i in 2:ncol(data)) {\n",
    "  boxplot(data[[i]], main = colnames(data)[i], ylab = colnames(data)[i])\n",
    "}\n",
    "\n",
    "# Scatter plot of genotype versus each metabolite\n",
    "par(mfrow = c(4, 7)) # This will create a 4x7 grid of scatter plots for 28 metabolites. Adjust as needed.\n",
    "for (i in 2:ncol(data)) {\n",
    "  plot(data$Genotype, data[[i]], main = paste(\"Genotype vs.\", colnames(data)[i]), xlab = \"Genotype\", ylab = colnames(data)[i])\n",
    "}\n"
   ]
  }
 ],
 "metadata": {
  "kernelspec": {
   "display_name": "R",
   "language": "R",
   "name": "ir"
  },
  "language_info": {
   "codemirror_mode": "r",
   "file_extension": ".r",
   "mimetype": "text/x-r-source",
   "name": "R",
   "pygments_lexer": "r",
   "version": "4.1.2"
  },
  "orig_nbformat": 4
 },
 "nbformat": 4,
 "nbformat_minor": 2
}
